{
 "cells": [
  {
   "cell_type": "markdown",
   "metadata": {},
   "source": [
    "# required imports"
   ]
  },
  {
   "cell_type": "code",
   "execution_count": 2,
   "metadata": {},
   "outputs": [],
   "source": [
    "import pandas as pd\n",
    "import numpy as np\n",
    "import matplotlib.pyplot as plt\n",
    "\n",
    "from collections import Counter\n",
    "from gensim.models import KeyedVectors\n",
    "\n",
    "from sklearn.preprocessing import LabelEncoder\n",
    "from sklearn.preprocessing import OneHotEncoder\n",
    "\n",
    "from sklearn.metrics import auc\n",
    "from sklearn.metrics import roc_curve\n",
    "from sklearn.metrics import roc_auc_score\n",
    "from sklearn.metrics import plot_roc_curve\n",
    "\n",
    "from sklearn.model_selection import train_test_split\n",
    "from sklearn.model_selection import RandomizedSearchCV\n",
    "\n",
    "from keras.wrappers.scikit_learn import KerasClassifier\n",
    "from keras.preprocessing.sequence import pad_sequences\n",
    "from keras.preprocessing.text import Tokenizer\n",
    "from keras.models import Sequential\n",
    "from keras.utils import plot_model\n",
    "from keras import layers\n",
    "from keras import Input\n",
    "from keras import Model"
   ]
  },
  {
   "cell_type": "markdown",
   "metadata": {},
   "source": [
    "# load data"
   ]
  },
  {
   "cell_type": "code",
   "execution_count": 3,
   "metadata": {},
   "outputs": [],
   "source": [
    "train_set = pd.read_csv(\"FactChecking/train.tsv\", sep='\\t')\n",
    "test_set  = pd.read_csv(\"FactChecking/test_noy.tsv\", sep='\\t')"
   ]
  },
  {
   "cell_type": "code",
   "execution_count": 4,
   "metadata": {},
   "outputs": [],
   "source": [
    "statements   = train_set[\"statement\"]\n",
    "labels       = train_set[\"label\"]"
   ]
  },
  {
   "cell_type": "markdown",
   "metadata": {},
   "source": [
    "# tokenize statements using keras.preprocessing.text.Tokenizer"
   ]
  },
  {
   "cell_type": "code",
   "execution_count": 5,
   "metadata": {},
   "outputs": [
    {
     "name": "stdout",
     "output_type": "stream",
     "text": [
      "(10268, 70)\n",
      "(2565, 70)\n"
     ]
    }
   ],
   "source": [
    "tokenizer = Tokenizer()\n",
    "tokenizer.fit_on_texts(statements)\n",
    "\n",
    "#how big is vocabulary of tokenizer overlap with\n",
    "vocab_size = len(tokenizer.word_index) + 1  # Adding 1 because of reserved 0 index\n",
    "\n",
    "# format data for model\n",
    "X = tokenizer.texts_to_sequences(statements)\n",
    "\n",
    "test_set_X = tokenizer.texts_to_sequences(test_set[\"statement\"])\n",
    "tokenized_statement_maxlen = max(len(max(X, key=len)),\n",
    "                                 len(max(test_set_X, key=len)))\n",
    "\n",
    "X = pad_sequences(X, padding='post', maxlen=tokenized_statement_maxlen)\n",
    "\n",
    "test_set_X = pad_sequences(test_set_X, padding='post', maxlen=tokenized_statement_maxlen)\n",
    "\n",
    "print(np.shape(X))\n",
    "print(np.shape(test_set_X))"
   ]
  },
  {
   "cell_type": "code",
   "execution_count": 6,
   "metadata": {},
   "outputs": [],
   "source": [
    "def frequentVals(data, min_count=200):\n",
    "        unique, counts = np.unique(data[data.notna()], return_counts=True)\n",
    "        if sum(data.isna()>min_count):\n",
    "            return (np.append(unique[counts>min_count],\"missing\"))\n",
    "        return unique[counts>min_count]\n",
    "        \n",
    "def onehot(vals, encoded_values=None):\n",
    "    if (encoded_values is None):\n",
    "        encoded_values = vals.to_numpy()\n",
    "    \n",
    "    vals = vals.replace(np.nan, 'missing')\n",
    "    onehot_encoder = OneHotEncoder(sparse=False, handle_unknown = \"ignore\")\n",
    "    onehot_encoder.fit(encoded_values.reshape(len(encoded_values), 1))    \n",
    "    ret = onehot_encoder.transform(vals.to_numpy().reshape(len(vals), 1))\n",
    "    return ret"
   ]
  },
  {
   "cell_type": "markdown",
   "metadata": {},
   "source": [
    "# encode additional data\n",
    "\n",
    "determine which values are frequent enough to be one-hot encoded"
   ]
  },
  {
   "cell_type": "code",
   "execution_count": 7,
   "metadata": {},
   "outputs": [],
   "source": [
    "encoded_subjects = frequentVals(train_set[\"subject\"])\n",
    "encoded_speakers = frequentVals(train_set[\"speaker\"])\n",
    "encoded_speaker_jobs = frequentVals(train_set[\"speaker_job\"])\n",
    "encoded_states = frequentVals(train_set[\"state\"])\n",
    "encoded_parties = frequentVals(train_set[\"party\"])\n",
    "encoded_contexts = frequentVals(train_set[\"context\"])\n",
    "\n",
    "def context_data_for_vals(dataset,\n",
    "                          encoded_subjects,\n",
    "                          encoded_speakers,\n",
    "                          encoded_speaker_jobs,\n",
    "                          encoded_states,\n",
    "                          encoded_parties,\n",
    "                          encoded_contexts):\n",
    "    subjects = onehot(dataset[\"subject\"],encoded_subjects)\n",
    "    speakers = onehot(dataset[\"speaker\"],encoded_speakers)\n",
    "    speaker_jobs = onehot(dataset[\"speaker_job\"],encoded_speaker_jobs)\n",
    "    states = onehot(dataset[\"state\"],encoded_states)\n",
    "    parties = onehot(dataset[\"party\"],encoded_parties)\n",
    "    contexts = onehot(dataset[\"context\"],encoded_contexts)\n",
    "\n",
    "    context_data = np.append(subjects,speakers,1)\n",
    "    context_data = np.append(context_data,speaker_jobs,1)\n",
    "    context_data = np.append(context_data,states,1)\n",
    "    context_data = np.append(context_data,parties,1)\n",
    "    return(np.append(context_data,contexts,1))\n",
    "\n",
    "context_data = context_data_for_vals(train_set,\n",
    "                                     encoded_subjects,\n",
    "                                     encoded_speakers,\n",
    "                                     encoded_speaker_jobs,\n",
    "                                     encoded_states,\n",
    "                                     encoded_parties,\n",
    "                                     encoded_contexts)\n",
    "\n",
    "context_data_test_set = context_data_for_vals(test_set,\n",
    "                                     encoded_subjects,\n",
    "                                     encoded_speakers,\n",
    "                                     encoded_speaker_jobs,\n",
    "                                     encoded_states,\n",
    "                                     encoded_parties,\n",
    "                                     encoded_contexts)\n",
    "\n",
    "context_data_size = context_data.shape[1]"
   ]
  },
  {
   "cell_type": "markdown",
   "metadata": {},
   "source": [
    "# Assignig labels to data\n",
    "#Section of code you want to run to perform classification for all labels\n"
   ]
  },
  {
   "cell_type": "code",
   "execution_count": 8,
   "metadata": {},
   "outputs": [
    {
     "name": "stdout",
     "output_type": "stream",
     "text": [
      "(10268, 6)\n"
     ]
    }
   ],
   "source": [
    "unique_labels = np.unique(labels)\n",
    "Y = onehot(labels)\n",
    "print(np.shape(Y))\n",
    "label_count = np.shape(Y)[1]"
   ]
  },
  {
   "cell_type": "markdown",
   "metadata": {},
   "source": [
    "Actual task is easier - we have to only find label \"pants-fire\" this code is for binary classufucation\n"
   ]
  },
  {
   "cell_type": "code",
   "execution_count": 9,
   "metadata": {},
   "outputs": [
    {
     "data": {
      "text/plain": [
       "0.9179976626412154"
      ]
     },
     "execution_count": 9,
     "metadata": {},
     "output_type": "execute_result"
    }
   ],
   "source": [
    "Y = (labels == \"pants-fire\")\n",
    "label_count=1\n",
    "#guess based on apriori chance: Model should be better than this\n",
    "1-(np.sum(Y)/len(Y))"
   ]
  },
  {
   "cell_type": "markdown",
   "metadata": {},
   "source": [
    "# split data into test and train set"
   ]
  },
  {
   "cell_type": "code",
   "execution_count": 10,
   "metadata": {},
   "outputs": [],
   "source": [
    "id_train,id_test = train_test_split(range(len(X)),\n",
    "                                    test_size = 0.25,\n",
    "                                    random_state = 42)\n",
    "\n",
    "X_train=X[id_train]\n",
    "X_test =X[id_test] \n",
    "\n",
    "Y_train=Y[id_train]\n",
    "Y_test =Y[id_test]\n",
    "\n",
    "context_data_train = context_data[id_train]\n",
    "context_data_test = context_data[id_test]                                                    "
   ]
  },
  {
   "cell_type": "markdown",
   "metadata": {},
   "source": [
    "# pre-trainted embeddings\n",
    "Import word2vec pre-trained word embeddings trained on google news.\n",
    "It should be much better than anything we can come up with by ourself even with such rich dataset"
   ]
  },
  {
   "cell_type": "code",
   "execution_count": 11,
   "metadata": {},
   "outputs": [],
   "source": [
    "embeddings_index = {}\n",
    "wv_from_bin = KeyedVectors.load_word2vec_format(\"GoogleNews-vectors-negative300.bin\", binary=True) \n",
    "for word, vector in zip(wv_from_bin.vocab, wv_from_bin.vectors):\n",
    "    coefs = np.asarray(vector, dtype='float32')\n",
    "    embeddings_index[word] = coefs\n",
    "# This variable is no longer needed.\n",
    "del wv_from_bin"
   ]
  },
  {
   "cell_type": "markdown",
   "metadata": {},
   "source": [
    "# helper functions\n",
    "getting first val of dictionary is cumbersome. Wrap it up into convinience method"
   ]
  },
  {
   "cell_type": "code",
   "execution_count": 12,
   "metadata": {},
   "outputs": [],
   "source": [
    "def first_dict_val(dic):\n",
    "    values_view = dic.values()\n",
    "    value_iterator = iter(values_view)\n",
    "    first_value = next(value_iterator)\n",
    "    return(first_value)"
   ]
  },
  {
   "cell_type": "markdown",
   "metadata": {},
   "source": [
    "restrict embedding dictionary to tokens present in data and conver it to embedding matrix with rows matching token ids"
   ]
  },
  {
   "cell_type": "code",
   "execution_count": 13,
   "metadata": {},
   "outputs": [],
   "source": [
    "def create_embedding_matrix(embeddings_index, word_index):\n",
    "    vocab_size = len(word_index) + 1  # Adding 1 because of reserved 0 index\n",
    "    embedding_vector_size = len(first_dict_val(embeddings_index))\n",
    "    \n",
    "    #preallocate matrix to save time\n",
    "    embedding_matrix = np.zeros((vocab_size, embedding_vector_size))\n",
    "    \n",
    "    #iterate over embedding index and save to matrix if it matches data\n",
    "    for token_string, embedding_vector in embeddings_index.items():\n",
    "        if token_string in word_index:\n",
    "            idx = word_index[token_string] \n",
    "            embedding_matrix[idx] = np.array(\n",
    "            embedding_vector, dtype=np.float32)[:embedding_vector_size]\n",
    "\n",
    "    return embedding_matrix"
   ]
  },
  {
   "cell_type": "markdown",
   "metadata": {},
   "source": [
    "# Create embedding matrix"
   ]
  },
  {
   "cell_type": "code",
   "execution_count": 14,
   "metadata": {},
   "outputs": [],
   "source": [
    "embedding_matrix = create_embedding_matrix(embeddings_index, tokenizer.word_index)\n",
    "# drop embedding index to save memory\n",
    "del embeddings_index"
   ]
  },
  {
   "cell_type": "markdown",
   "metadata": {},
   "source": [
    "# More convinience functions - plotting\n",
    "Plot keras model fitting history"
   ]
  },
  {
   "cell_type": "code",
   "execution_count": 15,
   "metadata": {},
   "outputs": [],
   "source": [
    "def plot_history(history):\n",
    "    acc = history.history['acc']\n",
    "    val_acc = history.history['val_acc']\n",
    "    loss = history.history['loss']\n",
    "    val_loss = history.history['val_loss']\n",
    "    x = range(1, len(acc) + 1)\n",
    "\n",
    "    plt.figure(figsize=(12, 5))\n",
    "    plt.subplot(1, 2, 1)\n",
    "    plt.plot(x, acc, 'b', label='Training acc')\n",
    "    plt.plot(x, val_acc, 'r', label='Validation acc')\n",
    "    plt.title('Training and validation accuracy')\n",
    "    plt.legend()\n",
    "    plt.subplot(1, 2, 2)\n",
    "    plt.plot(x, loss, 'b', label='Training loss')\n",
    "    plt.plot(x, val_loss, 'r', label='Validation loss')\n",
    "    plt.title('Training and validation loss')\n",
    "    plt.legend()\n"
   ]
  },
  {
   "cell_type": "markdown",
   "metadata": {},
   "source": [
    "Plot preety ROC curve"
   ]
  },
  {
   "cell_type": "code",
   "execution_count": 16,
   "metadata": {},
   "outputs": [],
   "source": [
    "# Plot roc\n",
    "def plot_roc(y_true, y_score, class_name):\n",
    "    fpr, tpr, _ = roc_curve(y_true, y_score)\n",
    "    roc_auc = auc(fpr, tpr)\n",
    "    plt.figure()\n",
    "    lw = 2\n",
    "    plt.plot(fpr, tpr, color='darkorange',\n",
    "             lw=lw, label='ROC curve (area = %0.2f)' % roc_auc)\n",
    "    plt.plot([0, 1], [0, 1], color='navy', lw=lw, linestyle='--')\n",
    "    plt.xlim([0.0, 1.0])\n",
    "    plt.ylim([0.0, 1.05])\n",
    "    plt.xlabel('False Positive Rate')\n",
    "    plt.ylabel('True Positive Rate')\n",
    "    plt.title('Receiver operating characteristic for \"'+class_name+'\"\"')\n",
    "    plt.legend(loc=\"lower right\")\n",
    "    plt.show()\n"
   ]
  },
  {
   "cell_type": "markdown",
   "metadata": {},
   "source": [
    "# Model Building helper function\n",
    "build CNN statement branch using one-hot statement"
   ]
  },
  {
   "cell_type": "code",
   "execution_count": 17,
   "metadata": {},
   "outputs": [],
   "source": [
    "def create_cnn_statement_branch(num_filters,\n",
    "                                kernel_size,\n",
    "                                conv_layer_count,\n",
    "                                dense_size = 10,\n",
    "                                trainable_embeddings = False):\n",
    "    \n",
    "    model = Sequential(name = \"statement_branch\")\n",
    "    model.add(layers.Embedding(np.shape(embedding_matrix)[0],\n",
    "                               np.shape(embedding_matrix)[1],\n",
    "                               weights      = [embedding_matrix],\n",
    "                               input_length = tokenized_statement_maxlen,\n",
    "                               trainable    = trainable_embeddings,\n",
    "                               name         = \"embedding\"))\n",
    "    for i in range(0,conv_layer_count):\n",
    "        model.add(layers.Conv1D(num_filters, kernel_size, activation='relu',name = 'conv'+str(i)))\n",
    "    model.add(layers.Flatten(name=\"flatten\"))\n",
    "    model.add(layers.Dense(dense_size, activation='relu',name = \"dense\"))\n",
    "    plot_model(model,to_file=\"statement_branch.png\", show_shapes=True)\n",
    "    model.compile(optimizer='adam',\n",
    "                  loss='binary_crossentropy',\n",
    "                  metrics=['accuracy'])\n",
    "    return model"
   ]
  },
  {
   "cell_type": "markdown",
   "metadata": {},
   "source": [
    "Build model with only single (statement) branch."
   ]
  },
  {
   "cell_type": "code",
   "execution_count": 18,
   "metadata": {},
   "outputs": [],
   "source": [
    "def build_cnn_statement_model(num_filters,\n",
    "                              kernel_size,\n",
    "                              conv_layer_count,\n",
    "                              output_size,\n",
    "                              dense_size = 10,\n",
    "                              trainable_embeddings = False):\n",
    "    \n",
    "    statement_input_layer = Input(shape = (tokenized_statement_maxlen,), name  = \"statement\")\n",
    "    statement_branch = create_cnn_statement_branch(num_filters,\n",
    "                                                   kernel_size,\n",
    "                                                   conv_layer_count,\n",
    "                                                   dense_size,\n",
    "                                                   trainable_embeddings)(statement_input_layer)\n",
    "\n",
    "    output_layer = layers.Dense(output_size,\n",
    "                                activation='sigmoid',\n",
    "                                name=\"output\")(statement_branch)\n",
    "\n",
    "    model = Model(statement_input_layer, output_layer)\n",
    "\n",
    "    model.compile(optimizer='adam',\n",
    "                  loss='binary_crossentropy',\n",
    "                  metrics=['accuracy'])\n",
    "    return model\n"
   ]
  },
  {
   "cell_type": "markdown",
   "metadata": {},
   "source": [
    "Build CNN keras model using only statement"
   ]
  },
  {
   "cell_type": "code",
   "execution_count": 19,
   "metadata": {},
   "outputs": [],
   "source": [
    "def create_cnn_text_model(\n",
    "                     num_filters,\n",
    "                     kernel_size,\n",
    "                     conv_layer_count,\n",
    "                     output_size,\n",
    "                     dense_size = 10,\n",
    "                     trainable_embeddings = False):\n",
    "\n",
    "    statement_input_layer = Input(shape = (tokenized_statement_maxlen,), name  = \"statement\")\n",
    "    statement_branch = create_cnn_statement_branch(num_filters,\n",
    "                                                   kernel_size,\n",
    "                                                   conv_layer_count,\n",
    "                                                   dense_size,\n",
    "                                                   trainable_embeddings)(statement_input_layer)\n",
    "    \n",
    "    context_input_layer = Input(shape = (context_data_size,), name  = \"context\")\n",
    "    context_dense_layer = layers.Dense(dense_size, activation='relu',name = \"context_dense\")(context_input_layer)\n",
    "\n",
    "    concat_layer = layers.concatenate([context_dense_layer, statement_branch],name=\"concat\")\n",
    "    \n",
    "    output_layer = layers.Dense(output_size,\n",
    "                                activation='sigmoid',\n",
    "                                name=\"output\")(concat_layer)\n",
    "\n",
    "    model = Model([statement_input_layer,context_input_layer], output_layer, name=\"cnn_model\")\n",
    "    plot_model(model, show_shapes=True)\n",
    "\n",
    "    model.compile(optimizer='adam',\n",
    "                  loss='binary_crossentropy',\n",
    "                  metrics=['accuracy'])\n",
    "    return model\n"
   ]
  },
  {
   "cell_type": "markdown",
   "metadata": {},
   "source": [
    "# Hyperparameter optimization\n",
    "wrapper for optimizer"
   ]
  },
  {
   "cell_type": "code",
   "execution_count": 20,
   "metadata": {},
   "outputs": [],
   "source": [
    "model = KerasClassifier(build_fn=build_cnn_statement_model,epochs=3, batch_size=10, verbose=True)"
   ]
  },
  {
   "cell_type": "markdown",
   "metadata": {},
   "source": [
    "distributions of parameters of hyperparameter optimization"
   ]
  },
  {
   "cell_type": "code",
   "execution_count": 21,
   "metadata": {},
   "outputs": [],
   "source": [
    "param_grid = dict(num_filters=[16,32,64],\n",
    "                  kernel_size=[2,4,8,16],\n",
    "                  conv_layer_count=[2,4,8,16],\n",
    "                  output_size=[label_count],\n",
    "                  dense_size=[label_count*2,label_count*4,label_count*8],\n",
    "                  trainable_embeddings=[True,False])\n"
   ]
  },
  {
   "cell_type": "markdown",
   "metadata": {},
   "source": [
    "## Perform grid search\n",
    "build and evaluate models and return set of parameters which were the best for this job"
   ]
  },
  {
   "cell_type": "code",
   "execution_count": null,
   "metadata": {},
   "outputs": [],
   "source": [
    "grid = RandomizedSearchCV(estimator = model,\n",
    "                          param_distributions = param_grid,\n",
    "                          cv = 4, verbose = 4, n_iter = 5)#build final model\n",
    "grid_result = grid.fit(X_train, Y_train,verbose=True)\n",
    "#best params\n",
    "best_params = grid.best_params_\n",
    "print(\"best params:\", best_params)\n",
    "# Evaluate testing set\n",
    "test_accuracy = grid.score(X_test, Y_test)\n",
    "print(\"Accuracy on test set:\" + str(test_accuracy))"
   ]
  },
  {
   "cell_type": "markdown",
   "metadata": {},
   "source": [
    "Best parameters which search returned"
   ]
  },
  {
   "cell_type": "code",
   "execution_count": 22,
   "metadata": {},
   "outputs": [],
   "source": [
    "best_params = dict(num_filters=32,\n",
    "                  kernel_size=4,\n",
    "                  conv_layer_count=4,\n",
    "                  output_size=label_count,\n",
    "                  dense_size=label_count*4,\n",
    "                  trainable_embeddings=False)"
   ]
  },
  {
   "cell_type": "markdown",
   "metadata": {},
   "source": [
    "Build best model to print evaluation statistics and check on labeled data "
   ]
  },
  {
   "cell_type": "code",
   "execution_count": 24,
   "metadata": {},
   "outputs": [
    {
     "name": "stdout",
     "output_type": "stream",
     "text": [
      "Epoch 1/3\n",
      "241/241 [==============================] - 2s 7ms/step - loss: 0.2979 - accuracy: 0.9113 - val_loss: 0.2816 - val_accuracy: 0.9135\n",
      "Epoch 2/3\n",
      "241/241 [==============================] - 2s 6ms/step - loss: 0.2627 - accuracy: 0.9195 - val_loss: 0.2902 - val_accuracy: 0.9135\n",
      "Epoch 3/3\n",
      "241/241 [==============================] - 2s 7ms/step - loss: 0.2505 - accuracy: 0.9195 - val_loss: 0.2848 - val_accuracy: 0.9135\n"
     ]
    }
   ],
   "source": [
    "model = create_cnn_text_model(*(best_params.values()))\n",
    "\n",
    "history=model.fit({\"statement\": X_train, \"context\": context_data_train}, Y_train,\n",
    "                  validation_data=({\"statement\": X_test, \"context\": context_data_test}, Y_test),epochs=3)\n",
    "#plot_history(history)\n"
   ]
  },
  {
   "cell_type": "markdown",
   "metadata": {},
   "source": [
    "Print ROC curve"
   ]
  },
  {
   "cell_type": "code",
   "execution_count": 25,
   "metadata": {},
   "outputs": [],
   "source": [
    "Y_test_scores = model.predict({\"statement\": X_test, \"context\": context_data_test})"
   ]
  },
  {
   "cell_type": "code",
   "execution_count": 26,
   "metadata": {},
   "outputs": [
    {
     "data": {
      "image/png": "[encoded data removed]",
      "text/plain": [
       "<Figure size 432x288 with 1 Axes>"
      ]
     },
     "metadata": {
      "needs_background": "light"
     },
     "output_type": "display_data"
    }
   ],
   "source": [
    "if (label_count>1):\n",
    "    for i in range(label_count):\n",
    "        plot_roc(Y_test[:,i], Y_test_scores[:,i], unique_labels[i])\n",
    "else:\n",
    "    plot_roc(Y_test, Y_test_scores, unique_labels[4])"
   ]
  },
  {
   "cell_type": "markdown",
   "metadata": {},
   "source": [
    "# Final model\n",
    "now generate model for all labeled data to maximize information model can learn"
   ]
  },
  {
   "cell_type": "code",
   "execution_count": 27,
   "metadata": {},
   "outputs": [
    {
     "name": "stdout",
     "output_type": "stream",
     "text": [
      "Epoch 1/3\n",
      "321/321 [==============================] - 2s 6ms/step - loss: 0.3048 - accuracy: 0.9069\n",
      "Epoch 2/3\n",
      "321/321 [==============================] - 2s 6ms/step - loss: 0.2665 - accuracy: 0.9180\n",
      "Epoch 3/3\n",
      "321/321 [==============================] - 2s 6ms/step - loss: 0.2496 - accuracy: 0.9180\n"
     ]
    }
   ],
   "source": [
    "final_model = create_cnn_text_model(*(best_params.values()))\n",
    "history=final_model.fit({\"statement\": X, \"context\": context_data}, Y,epochs=3)"
   ]
  },
  {
   "cell_type": "markdown",
   "metadata": {},
   "source": [
    "use this final model to generate scores"
   ]
  },
  {
   "cell_type": "code",
   "execution_count": 28,
   "metadata": {},
   "outputs": [],
   "source": [
    "Y_test_set_scores = final_model.predict({\"statement\": test_set_X, \"context\": context_data_test_set})\n",
    "if (label_count>1):\n",
    "    test_set_score = Y_test_set_scores[:,4]\n",
    "else:\n",
    "    test_set_score = Y_test_set_scores\n",
    "np.savetxt(\"pants-fire-score.res\",\n",
    "           test_set_score,\n",
    "           delimiter=\",\",\n",
    "           fmt=\"%1.8f\",\n",
    "           header=\"marcin_lapinski\",\n",
    "           comments=\"\")\n"
   ]
  }
 ],
 "metadata": {
  "kernelspec": {
   "display_name": "Python 3",
   "language": "python",
   "name": "python3"
  },
  "language_info": {
   "codemirror_mode": {
    "name": "ipython",
    "version": 3
   },
   "file_extension": ".py",
   "mimetype": "text/x-python",
   "name": "python",
   "nbconvert_exporter": "python",
   "pygments_lexer": "ipython3",
   "version": "3.8.5"
  }
 },
 "nbformat": 4,
 "nbformat_minor": 4
}
